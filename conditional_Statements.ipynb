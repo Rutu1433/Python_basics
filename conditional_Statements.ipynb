{
 "cells": [
  {
   "cell_type": "raw",
   "id": "398db632",
   "metadata": {},
   "source": [
    "conditional statement: if , if else , elif\n",
    "loop: for , while"
   ]
  },
  {
   "cell_type": "markdown",
   "id": "8616d03f",
   "metadata": {},
   "source": [
    "#  conditional Syntax"
   ]
  },
  {
   "cell_type": "raw",
   "id": "08ec96f8",
   "metadata": {},
   "source": [
    "if (condition):\n",
    "    code of execution"
   ]
  },
  {
   "cell_type": "code",
   "execution_count": 2,
   "id": "dc71046f",
   "metadata": {},
   "outputs": [
    {
     "name": "stdout",
     "output_type": "stream",
     "text": [
      "condition is true\n"
     ]
    }
   ],
   "source": [
    "a=10\n",
    "if (a>5):\n",
    "    print(\"condition is true\")"
   ]
  },
  {
   "cell_type": "code",
   "execution_count": 5,
   "id": "aee1aee2",
   "metadata": {},
   "outputs": [
    {
     "name": "stdout",
     "output_type": "stream",
     "text": [
      "Enter any number: 100\n",
      "condition is true\n"
     ]
    }
   ],
   "source": [
    "a=int(input(\"Enter any number: \"))\n",
    "if a>5:\n",
    "    print(\"condition is true\")\n",
    "else:\n",
    "    print(\"condition is false\")"
   ]
  },
  {
   "cell_type": "code",
   "execution_count": 7,
   "id": "b0484336",
   "metadata": {},
   "outputs": [
    {
     "name": "stdout",
     "output_type": "stream",
     "text": [
      "Enter any number: 0\n",
      "zero\n"
     ]
    }
   ],
   "source": [
    "b=int(input(\"Enter any number: \"))\n",
    "if b>0:\n",
    "    print(\"Positive\")\n",
    "elif b==0:\n",
    "    print(\"zero\")\n",
    "else:\n",
    "    print(\"Negative\")"
   ]
  },
  {
   "cell_type": "code",
   "execution_count": 8,
   "id": "8a358caf",
   "metadata": {},
   "outputs": [
    {
     "name": "stdout",
     "output_type": "stream",
     "text": [
      "Enter any number: -5\n",
      "Negative\n"
     ]
    }
   ],
   "source": [
    "b=int(input(\"Enter any number: \"))\n",
    "if b>0:\n",
    "    print(\"Positive\")\n",
    "elif b==0:\n",
    "    print(\"zero\")\n",
    "else:\n",
    "    print(\"Negative\")"
   ]
  },
  {
   "cell_type": "code",
   "execution_count": 21,
   "id": "09774467",
   "metadata": {},
   "outputs": [],
   "source": [
    "positive_no=[]\n",
    "negative_no=[]"
   ]
  },
  {
   "cell_type": "code",
   "execution_count": 27,
   "id": "e98e69a9",
   "metadata": {},
   "outputs": [
    {
     "name": "stdout",
     "output_type": "stream",
     "text": [
      "Enter any number: 100\n",
      "Positive\n"
     ]
    }
   ],
   "source": [
    "b=int(input(\"Enter any number: \"))\n",
    "if b>0:\n",
    "    positive_no.append(b)\n",
    "    print(\"Positive\")\n",
    "else:\n",
    "    negative_no.append(b)\n",
    "    print(\"Negative\")"
   ]
  },
  {
   "cell_type": "code",
   "execution_count": 28,
   "id": "d2532407",
   "metadata": {},
   "outputs": [
    {
     "data": {
      "text/plain": [
       "[5, 100]"
      ]
     },
     "execution_count": 28,
     "metadata": {},
     "output_type": "execute_result"
    }
   ],
   "source": [
    "positive_no"
   ]
  },
  {
   "cell_type": "code",
   "execution_count": 30,
   "id": "c6cf11c6",
   "metadata": {},
   "outputs": [
    {
     "data": {
      "text/plain": [
       "[-5]"
      ]
     },
     "execution_count": 30,
     "metadata": {},
     "output_type": "execute_result"
    }
   ],
   "source": [
    "negative_no"
   ]
  },
  {
   "cell_type": "code",
   "execution_count": 31,
   "id": "cc001cb7",
   "metadata": {},
   "outputs": [],
   "source": [
    "###nested if"
   ]
  },
  {
   "cell_type": "raw",
   "id": "2adf407e",
   "metadata": {},
   "source": [
    "a=int(input(\"enter any number: \"))\n",
    "if a>=0:\n",
    "    if a>0:\n",
    "        print(\"A is greater\")\n",
    "    else:\n",
    "        print(\"A is smaller\")\n",
    "else:\n",
    "    print(\"something\")"
   ]
  },
  {
   "cell_type": "code",
   "execution_count": null,
   "id": "e92d752b",
   "metadata": {},
   "outputs": [],
   "source": [
    "## pass break continue"
   ]
  },
  {
   "cell_type": "markdown",
   "id": "57fa8e69",
   "metadata": {},
   "source": [
    "# loop statements"
   ]
  },
  {
   "cell_type": "raw",
   "id": "c7dde3a9",
   "metadata": {},
   "source": [
    "####syntax\n",
    "for item in collection:\n",
    "    print(item)\n",
    "    "
   ]
  },
  {
   "cell_type": "code",
   "execution_count": null,
   "id": "a2795887",
   "metadata": {},
   "outputs": [],
   "source": [
    "l=[10,20,30,40,50,60]\n"
   ]
  },
  {
   "cell_type": "code",
   "execution_count": null,
   "id": "77e81e2f",
   "metadata": {},
   "outputs": [],
   "source": [
    "for i in l:\n",
    "    print(i)"
   ]
  }
 ],
 "metadata": {
  "kernelspec": {
   "display_name": "Python 3 (ipykernel)",
   "language": "python",
   "name": "python3"
  },
  "language_info": {
   "codemirror_mode": {
    "name": "ipython",
    "version": 3
   },
   "file_extension": ".py",
   "mimetype": "text/x-python",
   "name": "python",
   "nbconvert_exporter": "python",
   "pygments_lexer": "ipython3",
   "version": "3.11.4"
  }
 },
 "nbformat": 4,
 "nbformat_minor": 5
}
