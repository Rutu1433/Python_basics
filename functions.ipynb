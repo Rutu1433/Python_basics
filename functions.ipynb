{
 "cells": [
  {
   "cell_type": "raw",
   "id": "fb7e0445",
   "metadata": {},
   "source": [
    "Functions(definition,execution,calling)"
   ]
  },
  {
   "cell_type": "code",
   "execution_count": 2,
   "id": "b412f14d",
   "metadata": {},
   "outputs": [],
   "source": [
    "p=[500,600,700,800]"
   ]
  },
  {
   "cell_type": "code",
   "execution_count": 3,
   "id": "b170ffa3",
   "metadata": {},
   "outputs": [
    {
     "name": "stdout",
     "output_type": "stream",
     "text": [
      "2600\n"
     ]
    }
   ],
   "source": [
    "total_expence=0\n",
    "for i in p:\n",
    "    total_expence=total_expence+i\n",
    "print(total_expence)"
   ]
  },
  {
   "cell_type": "raw",
   "id": "ba71f913",
   "metadata": {},
   "source": [
    "####SYNTAX\n",
    "      def function_name():\n",
    "        #execution\n",
    "        function_name()"
   ]
  },
  {
   "cell_type": "code",
   "execution_count": 4,
   "id": "b23728a1",
   "metadata": {},
   "outputs": [],
   "source": [
    "John=[1000,2000,3000,4000]\n",
    "Rutu=[5000,6000,3000,5000]"
   ]
  },
  {
   "cell_type": "code",
   "execution_count": 5,
   "id": "fc100141",
   "metadata": {},
   "outputs": [],
   "source": [
    "def total_expence(name):\n",
    "    total_expence=0\n",
    "    for i in name:\n",
    "        total_expence=total_expence+i\n",
    "    print(total_expence)"
   ]
  },
  {
   "cell_type": "code",
   "execution_count": 6,
   "id": "ee615af4",
   "metadata": {},
   "outputs": [
    {
     "name": "stdout",
     "output_type": "stream",
     "text": [
      "10000\n"
     ]
    }
   ],
   "source": [
    "total_expence(John)"
   ]
  },
  {
   "cell_type": "code",
   "execution_count": 7,
   "id": "2f0b220c",
   "metadata": {},
   "outputs": [
    {
     "name": "stdout",
     "output_type": "stream",
     "text": [
      "19000\n"
     ]
    }
   ],
   "source": [
    "total_expence(Rutu)"
   ]
  },
  {
   "cell_type": "code",
   "execution_count": 9,
   "id": "ae086aaf",
   "metadata": {},
   "outputs": [],
   "source": [
    "John=[1000,2000,3000,4000]\n",
    "Rutu=[5000,6000,3000,5000]"
   ]
  },
  {
   "cell_type": "code",
   "execution_count": 10,
   "id": "f01e8f83",
   "metadata": {},
   "outputs": [],
   "source": [
    "def total_expence(name):\n",
    "    total_expence=0\n",
    "    for i in name:\n",
    "        total_expence+=i\n",
    "    print(total_expence)    \n"
   ]
  },
  {
   "cell_type": "code",
   "execution_count": 12,
   "id": "f4a91d05",
   "metadata": {},
   "outputs": [
    {
     "name": "stdout",
     "output_type": "stream",
     "text": [
      "10000\n"
     ]
    }
   ],
   "source": [
    "total_expence(John)"
   ]
  },
  {
   "cell_type": "code",
   "execution_count": 14,
   "id": "4ac08624",
   "metadata": {},
   "outputs": [
    {
     "name": "stdout",
     "output_type": "stream",
     "text": [
      "19000\n"
     ]
    }
   ],
   "source": [
    "total_expence(Rutu)"
   ]
  },
  {
   "cell_type": "code",
   "execution_count": 16,
   "id": "6b45b4cb",
   "metadata": {},
   "outputs": [],
   "source": [
    "def sum(a,b):\n",
    "    print(a+b)"
   ]
  },
  {
   "cell_type": "code",
   "execution_count": 18,
   "id": "dffda0f4",
   "metadata": {},
   "outputs": [
    {
     "name": "stdout",
     "output_type": "stream",
     "text": [
      "30\n"
     ]
    }
   ],
   "source": [
    "sum(10,20)"
   ]
  },
  {
   "cell_type": "code",
   "execution_count": 20,
   "id": "c2911c07",
   "metadata": {},
   "outputs": [],
   "source": [
    "def sum(*a):     ##we can give multiple values of a\n",
    "    return a\n"
   ]
  },
  {
   "cell_type": "code",
   "execution_count": 22,
   "id": "05d86af5",
   "metadata": {},
   "outputs": [
    {
     "data": {
      "text/plain": [
       "(10, 20, 30)"
      ]
     },
     "execution_count": 22,
     "metadata": {},
     "output_type": "execute_result"
    }
   ],
   "source": [
    "sum(10,20,30)"
   ]
  },
  {
   "cell_type": "code",
   "execution_count": 23,
   "id": "639afb8f",
   "metadata": {},
   "outputs": [],
   "source": [
    "####if we want to add docstring"
   ]
  },
  {
   "cell_type": "code",
   "execution_count": null,
   "id": "c4b09793",
   "metadata": {},
   "outputs": [],
   "source": [
    "John=[1000,2000,3000,4000]\n",
    "Rutu=[5000,6000,3000,5000]"
   ]
  },
  {
   "cell_type": "code",
   "execution_count": 24,
   "id": "77af9dd3",
   "metadata": {},
   "outputs": [],
   "source": [
    "def total_expence(name):\n",
    "    \"This function is used to calculate total expence\"\n",
    "    total_expence=0\n",
    "    for i in name:\n",
    "        total_expence+=i\n",
    "    print(total_expence) "
   ]
  },
  {
   "cell_type": "code",
   "execution_count": 25,
   "id": "6fdbcac2",
   "metadata": {},
   "outputs": [
    {
     "ename": "TypeError",
     "evalue": "total_expence() missing 1 required positional argument: 'name'",
     "output_type": "error",
     "traceback": [
      "\u001b[1;31m---------------------------------------------------------------------------\u001b[0m",
      "\u001b[1;31mTypeError\u001b[0m                                 Traceback (most recent call last)",
      "Cell \u001b[1;32mIn[25], line 1\u001b[0m\n\u001b[1;32m----> 1\u001b[0m total_expence()\n",
      "\u001b[1;31mTypeError\u001b[0m: total_expence() missing 1 required positional argument: 'name'"
     ]
    }
   ],
   "source": [
    "total_expence()      ##shift+tab "
   ]
  },
  {
   "cell_type": "code",
   "execution_count": 27,
   "id": "49a3e187",
   "metadata": {},
   "outputs": [
    {
     "name": "stdout",
     "output_type": "stream",
     "text": [
      "Help on class type in module builtins:\n",
      "\n",
      "class type(object)\n",
      " |  type(object) -> the object's type\n",
      " |  type(name, bases, dict, **kwds) -> a new type\n",
      " |  \n",
      " |  Methods defined here:\n",
      " |  \n",
      " |  __call__(self, /, *args, **kwargs)\n",
      " |      Call self as a function.\n",
      " |  \n",
      " |  __delattr__(self, name, /)\n",
      " |      Implement delattr(self, name).\n",
      " |  \n",
      " |  __dir__(self, /)\n",
      " |      Specialized __dir__ implementation for types.\n",
      " |  \n",
      " |  __getattribute__(self, name, /)\n",
      " |      Return getattr(self, name).\n",
      " |  \n",
      " |  __init__(self, /, *args, **kwargs)\n",
      " |      Initialize self.  See help(type(self)) for accurate signature.\n",
      " |  \n",
      " |  __instancecheck__(self, instance, /)\n",
      " |      Check if an object is an instance.\n",
      " |  \n",
      " |  __or__(self, value, /)\n",
      " |      Return self|value.\n",
      " |  \n",
      " |  __repr__(self, /)\n",
      " |      Return repr(self).\n",
      " |  \n",
      " |  __ror__(self, value, /)\n",
      " |      Return value|self.\n",
      " |  \n",
      " |  __setattr__(self, name, value, /)\n",
      " |      Implement setattr(self, name, value).\n",
      " |  \n",
      " |  __sizeof__(self, /)\n",
      " |      Return memory consumption of the type object.\n",
      " |  \n",
      " |  __subclasscheck__(self, subclass, /)\n",
      " |      Check if a class is a subclass.\n",
      " |  \n",
      " |  __subclasses__(self, /)\n",
      " |      Return a list of immediate subclasses.\n",
      " |  \n",
      " |  mro(self, /)\n",
      " |      Return a type's method resolution order.\n",
      " |  \n",
      " |  ----------------------------------------------------------------------\n",
      " |  Class methods defined here:\n",
      " |  \n",
      " |  __prepare__(...)\n",
      " |      __prepare__() -> dict\n",
      " |      used to create the namespace for the class statement\n",
      " |  \n",
      " |  ----------------------------------------------------------------------\n",
      " |  Static methods defined here:\n",
      " |  \n",
      " |  __new__(*args, **kwargs)\n",
      " |      Create and return a new object.  See help(type) for accurate signature.\n",
      " |  \n",
      " |  ----------------------------------------------------------------------\n",
      " |  Data descriptors defined here:\n",
      " |  \n",
      " |  __abstractmethods__\n",
      " |  \n",
      " |  __annotations__\n",
      " |  \n",
      " |  __dict__\n",
      " |  \n",
      " |  __text_signature__\n",
      " |  \n",
      " |  ----------------------------------------------------------------------\n",
      " |  Data and other attributes defined here:\n",
      " |  \n",
      " |  __base__ = <class 'object'>\n",
      " |      The base class of the class hierarchy.\n",
      " |      \n",
      " |      When called, it accepts no arguments and returns a new featureless\n",
      " |      instance that has no instance attributes and cannot be given any.\n",
      " |  \n",
      " |  \n",
      " |  __bases__ = (<class 'object'>,)\n",
      " |  \n",
      " |  __basicsize__ = 904\n",
      " |  \n",
      " |  __dictoffset__ = 264\n",
      " |  \n",
      " |  __flags__ = 2148031744\n",
      " |  \n",
      " |  __itemsize__ = 40\n",
      " |  \n",
      " |  __mro__ = (<class 'type'>, <class 'object'>)\n",
      " |  \n",
      " |  __weakrefoffset__ = 368\n",
      "\n"
     ]
    }
   ],
   "source": [
    "help(type)"
   ]
  },
  {
   "cell_type": "raw",
   "id": "6b06409a",
   "metadata": {},
   "source": [
    "*a= *args (multiple arguments)\n",
    "**kwards= keyword argument (key-value)"
   ]
  },
  {
   "cell_type": "code",
   "execution_count": 29,
   "id": "a56192c1",
   "metadata": {},
   "outputs": [],
   "source": [
    "def test(**info):\n",
    "    return info"
   ]
  },
  {
   "cell_type": "code",
   "execution_count": 32,
   "id": "bb627604",
   "metadata": {},
   "outputs": [
    {
     "data": {
      "text/plain": [
       "{'name': 'abc', 'number': 123}"
      ]
     },
     "execution_count": 32,
     "metadata": {},
     "output_type": "execute_result"
    }
   ],
   "source": [
    "test(name=\"abc\",number=123)"
   ]
  },
  {
   "cell_type": "code",
   "execution_count": 1,
   "id": "0c1f1acb",
   "metadata": {},
   "outputs": [],
   "source": [
    "##Function with parameter"
   ]
  },
  {
   "cell_type": "code",
   "execution_count": 3,
   "id": "f194ad55",
   "metadata": {},
   "outputs": [],
   "source": [
    "def sum(a,b):\n",
    "    print(a+b)"
   ]
  },
  {
   "cell_type": "code",
   "execution_count": 5,
   "id": "5021b2a8",
   "metadata": {},
   "outputs": [
    {
     "name": "stdout",
     "output_type": "stream",
     "text": [
      "30\n"
     ]
    }
   ],
   "source": [
    "sum(10,20)"
   ]
  },
  {
   "cell_type": "code",
   "execution_count": 6,
   "id": "421de00c",
   "metadata": {},
   "outputs": [],
   "source": [
    "##Function with no parameter"
   ]
  },
  {
   "cell_type": "code",
   "execution_count": 8,
   "id": "b97d8241",
   "metadata": {},
   "outputs": [],
   "source": [
    "def sum():\n",
    "    print(\"This is the function with no parameter\")"
   ]
  },
  {
   "cell_type": "code",
   "execution_count": 9,
   "id": "29572ad5",
   "metadata": {},
   "outputs": [
    {
     "name": "stdout",
     "output_type": "stream",
     "text": [
      "This is the function with no parameter\n"
     ]
    }
   ],
   "source": [
    "sum()"
   ]
  },
  {
   "cell_type": "code",
   "execution_count": 10,
   "id": "83e6e1d6",
   "metadata": {},
   "outputs": [],
   "source": [
    "##Funtion with default parameter"
   ]
  },
  {
   "cell_type": "code",
   "execution_count": 12,
   "id": "66796ca1",
   "metadata": {},
   "outputs": [],
   "source": [
    "def test1(a=10,b=5):\n",
    "    print(\"value of a: \",a)\n",
    "    print(\"value of b: \",b)"
   ]
  },
  {
   "cell_type": "code",
   "execution_count": 14,
   "id": "6d22f550",
   "metadata": {},
   "outputs": [
    {
     "name": "stdout",
     "output_type": "stream",
     "text": [
      "value of a:  10\n",
      "value of b:  5\n"
     ]
    }
   ],
   "source": [
    "test1()"
   ]
  },
  {
   "cell_type": "code",
   "execution_count": 16,
   "id": "c56728f1",
   "metadata": {},
   "outputs": [
    {
     "name": "stdout",
     "output_type": "stream",
     "text": [
      "value of a:  10\n",
      "value of b:  30\n"
     ]
    }
   ],
   "source": [
    "test1(10,30)"
   ]
  },
  {
   "cell_type": "code",
   "execution_count": 21,
   "id": "7bdd75e2",
   "metadata": {},
   "outputs": [
    {
     "name": "stdout",
     "output_type": "stream",
     "text": [
      "value of a:  5\n",
      "value of b:  5\n"
     ]
    }
   ],
   "source": [
    "test1(5)"
   ]
  },
  {
   "cell_type": "code",
   "execution_count": 22,
   "id": "c135865a",
   "metadata": {},
   "outputs": [],
   "source": [
    "##Function with return parameter"
   ]
  },
  {
   "cell_type": "code",
   "execution_count": 24,
   "id": "6d0651b9",
   "metadata": {},
   "outputs": [],
   "source": [
    "def sub(a,b):\n",
    "    return (a-b)"
   ]
  },
  {
   "cell_type": "code",
   "execution_count": 26,
   "id": "b7855ec5",
   "metadata": {},
   "outputs": [
    {
     "data": {
      "text/plain": [
       "0"
      ]
     },
     "execution_count": 26,
     "metadata": {},
     "output_type": "execute_result"
    }
   ],
   "source": [
    "sub(10,10)"
   ]
  },
  {
   "cell_type": "code",
   "execution_count": 27,
   "id": "5b9ae15c",
   "metadata": {},
   "outputs": [],
   "source": [
    "###LAMBDA FUNCTION"
   ]
  },
  {
   "cell_type": "code",
   "execution_count": 31,
   "id": "682f6067",
   "metadata": {},
   "outputs": [],
   "source": [
    "x=lambda a,b:a+b"
   ]
  },
  {
   "cell_type": "code",
   "execution_count": 33,
   "id": "e968e56f",
   "metadata": {},
   "outputs": [
    {
     "data": {
      "text/plain": [
       "15"
      ]
     },
     "execution_count": 33,
     "metadata": {},
     "output_type": "execute_result"
    }
   ],
   "source": [
    "x(10,5)"
   ]
  },
  {
   "cell_type": "code",
   "execution_count": 36,
   "id": "b9a59e46",
   "metadata": {},
   "outputs": [],
   "source": [
    "x=lambda a:a**2"
   ]
  },
  {
   "cell_type": "code",
   "execution_count": 38,
   "id": "d08ec6e6",
   "metadata": {},
   "outputs": [
    {
     "data": {
      "text/plain": [
       "25"
      ]
     },
     "execution_count": 38,
     "metadata": {},
     "output_type": "execute_result"
    }
   ],
   "source": [
    "x(5)"
   ]
  },
  {
   "cell_type": "code",
   "execution_count": 40,
   "id": "4d33d262",
   "metadata": {},
   "outputs": [],
   "source": [
    "x=lambda a,b: a*b"
   ]
  },
  {
   "cell_type": "code",
   "execution_count": 42,
   "id": "8c924197",
   "metadata": {},
   "outputs": [
    {
     "data": {
      "text/plain": [
       "200"
      ]
     },
     "execution_count": 42,
     "metadata": {},
     "output_type": "execute_result"
    }
   ],
   "source": [
    "x(10,20)"
   ]
  },
  {
   "cell_type": "code",
   "execution_count": null,
   "id": "66f2cdc3",
   "metadata": {},
   "outputs": [],
   "source": []
  }
 ],
 "metadata": {
  "kernelspec": {
   "display_name": "Python 3 (ipykernel)",
   "language": "python",
   "name": "python3"
  },
  "language_info": {
   "codemirror_mode": {
    "name": "ipython",
    "version": 3
   },
   "file_extension": ".py",
   "mimetype": "text/x-python",
   "name": "python",
   "nbconvert_exporter": "python",
   "pygments_lexer": "ipython3",
   "version": "3.11.4"
  }
 },
 "nbformat": 4,
 "nbformat_minor": 5
}
