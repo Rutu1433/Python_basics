{
 "cells": [
  {
   "cell_type": "code",
   "execution_count": 2,
   "id": "97c5525c",
   "metadata": {},
   "outputs": [],
   "source": [
    "d={\"key\":\"value\",\"name\":\"rutu\"}"
   ]
  },
  {
   "cell_type": "code",
   "execution_count": 4,
   "id": "e5fa3146",
   "metadata": {},
   "outputs": [
    {
     "data": {
      "text/plain": [
       "dict"
      ]
     },
     "execution_count": 4,
     "metadata": {},
     "output_type": "execute_result"
    }
   ],
   "source": [
    "type(d)"
   ]
  },
  {
   "cell_type": "code",
   "execution_count": 7,
   "id": "2d31f66c",
   "metadata": {},
   "outputs": [],
   "source": [
    "d={\"key\":\"value\",\"name\":\"rutu\",\"name\":\"john\"}    #######key must be unique"
   ]
  },
  {
   "cell_type": "code",
   "execution_count": 9,
   "id": "376f5496",
   "metadata": {},
   "outputs": [
    {
     "data": {
      "text/plain": [
       "{'key': 'value', 'name': 'john'}"
      ]
     },
     "execution_count": 9,
     "metadata": {},
     "output_type": "execute_result"
    }
   ],
   "source": [
    "d"
   ]
  },
  {
   "cell_type": "code",
   "execution_count": 13,
   "id": "580aff8c",
   "metadata": {},
   "outputs": [],
   "source": [
    "d={\"key\":\"value\",\"name\":\"rutu\",\"number\":123,\"mobile number\":123}   ###values can be repeated"
   ]
  },
  {
   "cell_type": "code",
   "execution_count": 14,
   "id": "8f936401",
   "metadata": {},
   "outputs": [
    {
     "data": {
      "text/plain": [
       "{'key': 'value', 'name': 'rutu', 'number': 123, 'mobile number': 123}"
      ]
     },
     "execution_count": 14,
     "metadata": {},
     "output_type": "execute_result"
    }
   ],
   "source": [
    "d"
   ]
  },
  {
   "cell_type": "code",
   "execution_count": 18,
   "id": "bc1ae764",
   "metadata": {},
   "outputs": [],
   "source": [
    "d[\"Address\"]=\"pune\"     ##to add new key value pair"
   ]
  },
  {
   "cell_type": "code",
   "execution_count": 19,
   "id": "21ec35e8",
   "metadata": {},
   "outputs": [
    {
     "data": {
      "text/plain": [
       "{'key': 'value',\n",
       " 'name': 'rutu',\n",
       " 'number': 123,\n",
       " 'mobile number': 123,\n",
       " 'Address': 'pune'}"
      ]
     },
     "execution_count": 19,
     "metadata": {},
     "output_type": "execute_result"
    }
   ],
   "source": [
    "d"
   ]
  },
  {
   "cell_type": "code",
   "execution_count": 23,
   "id": "a2e2fe77",
   "metadata": {},
   "outputs": [],
   "source": [
    "d[\"Address\"]=\"mumbai\"    ###pune replaced by mumbai"
   ]
  },
  {
   "cell_type": "code",
   "execution_count": 24,
   "id": "a15b32f3",
   "metadata": {},
   "outputs": [
    {
     "data": {
      "text/plain": [
       "{'key': 'value',\n",
       " 'name': 'rutu',\n",
       " 'number': 123,\n",
       " 'mobile number': 123,\n",
       " 'Address': 'mumbai'}"
      ]
     },
     "execution_count": 24,
     "metadata": {},
     "output_type": "execute_result"
    }
   ],
   "source": [
    "d"
   ]
  },
  {
   "cell_type": "code",
   "execution_count": 26,
   "id": "3e19a723",
   "metadata": {},
   "outputs": [
    {
     "data": {
      "text/plain": [
       "'rutu'"
      ]
     },
     "execution_count": 26,
     "metadata": {},
     "output_type": "execute_result"
    }
   ],
   "source": [
    "d.get(\"name\")"
   ]
  },
  {
   "cell_type": "code",
   "execution_count": 28,
   "id": "29c33b64",
   "metadata": {},
   "outputs": [
    {
     "data": {
      "text/plain": [
       "True"
      ]
     },
     "execution_count": 28,
     "metadata": {},
     "output_type": "execute_result"
    }
   ],
   "source": [
    "\"rutu\" in d[\"name\"]"
   ]
  },
  {
   "cell_type": "code",
   "execution_count": 30,
   "id": "b2d8aeec",
   "metadata": {},
   "outputs": [
    {
     "data": {
      "text/plain": [
       "dict_keys(['key', 'name', 'number', 'mobile number', 'Address'])"
      ]
     },
     "execution_count": 30,
     "metadata": {},
     "output_type": "execute_result"
    }
   ],
   "source": [
    "d.keys()"
   ]
  },
  {
   "cell_type": "code",
   "execution_count": 32,
   "id": "61cc30c0",
   "metadata": {},
   "outputs": [
    {
     "data": {
      "text/plain": [
       "dict_values(['value', 'rutu', 123, 123, 'mumbai'])"
      ]
     },
     "execution_count": 32,
     "metadata": {},
     "output_type": "execute_result"
    }
   ],
   "source": [
    "d.values()"
   ]
  },
  {
   "cell_type": "raw",
   "id": "bdf3bc9e",
   "metadata": {},
   "source": [
    "####in dictionary we can add list, tuple, set, dictionary as a value"
   ]
  },
  {
   "cell_type": "raw",
   "id": "94913b42",
   "metadata": {},
   "source": [
    "####in dictionary we can use integer, float, string and tuple as a key"
   ]
  },
  {
   "cell_type": "code",
   "execution_count": 47,
   "id": "186f6fa8",
   "metadata": {},
   "outputs": [],
   "source": [
    "d={\"name\":\"rutu\",\"number\":123,\"skills\":{\"ds\":\"python\",\"data\":\"science\"}}"
   ]
  },
  {
   "cell_type": "code",
   "execution_count": 39,
   "id": "0b7359da",
   "metadata": {},
   "outputs": [
    {
     "data": {
      "text/plain": [
       "'python'"
      ]
     },
     "execution_count": 39,
     "metadata": {},
     "output_type": "execute_result"
    }
   ],
   "source": [
    "d[\"skills\"][\"ds\"]"
   ]
  },
  {
   "cell_type": "code",
   "execution_count": 44,
   "id": "3d9ed724",
   "metadata": {},
   "outputs": [
    {
     "data": {
      "text/plain": [
       "'rutu'"
      ]
     },
     "execution_count": 44,
     "metadata": {},
     "output_type": "execute_result"
    }
   ],
   "source": [
    "d.pop(\"name\")"
   ]
  },
  {
   "cell_type": "code",
   "execution_count": 46,
   "id": "e95ba9da",
   "metadata": {},
   "outputs": [
    {
     "data": {
      "text/plain": [
       "{'number': 123, 'skills': {'ds': 'python', 'data': 'science'}}"
      ]
     },
     "execution_count": 46,
     "metadata": {},
     "output_type": "execute_result"
    }
   ],
   "source": [
    "d"
   ]
  },
  {
   "cell_type": "code",
   "execution_count": 52,
   "id": "bbfba3f1",
   "metadata": {},
   "outputs": [
    {
     "data": {
      "text/plain": [
       "{'name': 'rutu', 'number': 123}"
      ]
     },
     "execution_count": 52,
     "metadata": {},
     "output_type": "execute_result"
    }
   ],
   "source": [
    "d"
   ]
  },
  {
   "cell_type": "code",
   "execution_count": 51,
   "id": "826e2c73",
   "metadata": {},
   "outputs": [
    {
     "ename": "KeyError",
     "evalue": "'skills'",
     "output_type": "error",
     "traceback": [
      "\u001b[1;31m---------------------------------------------------------------------------\u001b[0m",
      "\u001b[1;31mKeyError\u001b[0m                                  Traceback (most recent call last)",
      "Cell \u001b[1;32mIn[51], line 1\u001b[0m\n\u001b[1;32m----> 1\u001b[0m \u001b[38;5;28;01mdel\u001b[39;00m d[\u001b[38;5;124m\"\u001b[39m\u001b[38;5;124mskills\u001b[39m\u001b[38;5;124m\"\u001b[39m]\n",
      "\u001b[1;31mKeyError\u001b[0m: 'skills'"
     ]
    }
   ],
   "source": [
    "del d[\"skills\"]"
   ]
  },
  {
   "cell_type": "code",
   "execution_count": 54,
   "id": "46c4bf90",
   "metadata": {},
   "outputs": [],
   "source": [
    "d={\"name\":\"rutu\",\"number\":123,\"skills\":{\"ds\":\"python\",\"data\":\"science\"}}"
   ]
  },
  {
   "cell_type": "code",
   "execution_count": 56,
   "id": "72c8b464",
   "metadata": {},
   "outputs": [
    {
     "ename": "KeyError",
     "evalue": "'skills'",
     "output_type": "error",
     "traceback": [
      "\u001b[1;31m---------------------------------------------------------------------------\u001b[0m",
      "\u001b[1;31mKeyError\u001b[0m                                  Traceback (most recent call last)",
      "Cell \u001b[1;32mIn[56], line 1\u001b[0m\n\u001b[1;32m----> 1\u001b[0m \u001b[38;5;28;01mdel\u001b[39;00m d[\u001b[38;5;124m\"\u001b[39m\u001b[38;5;124mskills\u001b[39m\u001b[38;5;124m\"\u001b[39m]\n",
      "\u001b[1;31mKeyError\u001b[0m: 'skills'"
     ]
    }
   ],
   "source": [
    "del d[\"skills\"]"
   ]
  },
  {
   "cell_type": "code",
   "execution_count": 58,
   "id": "38a8a72c",
   "metadata": {},
   "outputs": [
    {
     "data": {
      "text/plain": [
       "{'name': 'rutu', 'number': 123}"
      ]
     },
     "execution_count": 58,
     "metadata": {},
     "output_type": "execute_result"
    }
   ],
   "source": [
    "d"
   ]
  },
  {
   "cell_type": "code",
   "execution_count": 60,
   "id": "6223ea82",
   "metadata": {},
   "outputs": [],
   "source": [
    "d.clear()"
   ]
  },
  {
   "cell_type": "code",
   "execution_count": 62,
   "id": "bc2eb8d0",
   "metadata": {},
   "outputs": [
    {
     "data": {
      "text/plain": [
       "{}"
      ]
     },
     "execution_count": 62,
     "metadata": {},
     "output_type": "execute_result"
    }
   ],
   "source": [
    "d"
   ]
  },
  {
   "cell_type": "code",
   "execution_count": 65,
   "id": "3d8e9de0",
   "metadata": {},
   "outputs": [],
   "source": [
    "d={\"name\":\"rutu\",\"number\":123,\"skills\":{\"ds\":\"python\",\"data\":\"science\"}}"
   ]
  },
  {
   "cell_type": "code",
   "execution_count": 67,
   "id": "a27d6689",
   "metadata": {},
   "outputs": [
    {
     "data": {
      "text/plain": [
       "dict_items([('name', 'rutu'), ('number', 123), ('skills', {'ds': 'python', 'data': 'science'})])"
      ]
     },
     "execution_count": 67,
     "metadata": {},
     "output_type": "execute_result"
    }
   ],
   "source": [
    "d.items()"
   ]
  },
  {
   "cell_type": "code",
   "execution_count": 69,
   "id": "b046e149",
   "metadata": {},
   "outputs": [
    {
     "data": {
      "text/plain": [
       "('number', 123)"
      ]
     },
     "execution_count": 69,
     "metadata": {},
     "output_type": "execute_result"
    }
   ],
   "source": [
    "d.popitem()"
   ]
  },
  {
   "cell_type": "code",
   "execution_count": 71,
   "id": "e5bd68aa",
   "metadata": {},
   "outputs": [
    {
     "data": {
      "text/plain": [
       "{'name': 'rutu'}"
      ]
     },
     "execution_count": 71,
     "metadata": {},
     "output_type": "execute_result"
    }
   ],
   "source": [
    "d"
   ]
  },
  {
   "cell_type": "code",
   "execution_count": null,
   "id": "cf4d1a87",
   "metadata": {},
   "outputs": [],
   "source": []
  }
 ],
 "metadata": {
  "kernelspec": {
   "display_name": "Python 3 (ipykernel)",
   "language": "python",
   "name": "python3"
  },
  "language_info": {
   "codemirror_mode": {
    "name": "ipython",
    "version": 3
   },
   "file_extension": ".py",
   "mimetype": "text/x-python",
   "name": "python",
   "nbconvert_exporter": "python",
   "pygments_lexer": "ipython3",
   "version": "3.11.4"
  }
 },
 "nbformat": 4,
 "nbformat_minor": 5
}
