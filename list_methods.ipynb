{
 "cells": [
  {
   "cell_type": "code",
   "execution_count": 1,
   "id": "061b2063",
   "metadata": {},
   "outputs": [],
   "source": [
    "##indexing same as SET"
   ]
  },
  {
   "cell_type": "code",
   "execution_count": 2,
   "id": "9ea34f98",
   "metadata": {},
   "outputs": [],
   "source": [
    "l1=[1,2,3,4]\n",
    "l2=[5,6,7,8]"
   ]
  },
  {
   "cell_type": "code",
   "execution_count": 3,
   "id": "15de4cf5",
   "metadata": {},
   "outputs": [
    {
     "data": {
      "text/plain": [
       "[1, 2, 3, 4, 5, 6, 7, 8]"
      ]
     },
     "execution_count": 3,
     "metadata": {},
     "output_type": "execute_result"
    }
   ],
   "source": [
    "l1+l2   ##to add numbers to the list"
   ]
  },
  {
   "cell_type": "code",
   "execution_count": 4,
   "id": "034faba0",
   "metadata": {},
   "outputs": [
    {
     "data": {
      "text/plain": [
       "[1, 2, 3, 4, 1, 2, 3, 4, 1, 2, 3, 4]"
      ]
     },
     "execution_count": 4,
     "metadata": {},
     "output_type": "execute_result"
    }
   ],
   "source": [
    "l1*3  ##to replicate the elements of list"
   ]
  },
  {
   "cell_type": "code",
   "execution_count": 5,
   "id": "085ebfb9",
   "metadata": {},
   "outputs": [
    {
     "data": {
      "text/plain": [
       "1"
      ]
     },
     "execution_count": 5,
     "metadata": {},
     "output_type": "execute_result"
    }
   ],
   "source": [
    "min(l1)"
   ]
  },
  {
   "cell_type": "code",
   "execution_count": 10,
   "id": "46421ea3",
   "metadata": {},
   "outputs": [],
   "source": [
    "l=[1,12.4,\"python\",\"rutu\"]"
   ]
  },
  {
   "cell_type": "code",
   "execution_count": 12,
   "id": "9b024cef",
   "metadata": {},
   "outputs": [
    {
     "ename": "TypeError",
     "evalue": "'<' not supported between instances of 'str' and 'int'",
     "output_type": "error",
     "traceback": [
      "\u001b[1;31m---------------------------------------------------------------------------\u001b[0m",
      "\u001b[1;31mTypeError\u001b[0m                                 Traceback (most recent call last)",
      "Cell \u001b[1;32mIn[12], line 1\u001b[0m\n\u001b[1;32m----> 1\u001b[0m \u001b[38;5;28mmin\u001b[39m(l)\n",
      "\u001b[1;31mTypeError\u001b[0m: '<' not supported between instances of 'str' and 'int'"
     ]
    }
   ],
   "source": [
    "min(l)    ##min max methods holdes good when list contain similar kind of data types"
   ]
  },
  {
   "cell_type": "code",
   "execution_count": 13,
   "id": "55a0fd71",
   "metadata": {},
   "outputs": [],
   "source": [
    "l=[\"python\",\"rutu\",\"alpha\"]"
   ]
  },
  {
   "cell_type": "code",
   "execution_count": 15,
   "id": "021108fa",
   "metadata": {},
   "outputs": [
    {
     "data": {
      "text/plain": [
       "'alpha'"
      ]
     },
     "execution_count": 15,
     "metadata": {},
     "output_type": "execute_result"
    }
   ],
   "source": [
    "min(l)"
   ]
  },
  {
   "cell_type": "code",
   "execution_count": 17,
   "id": "4f0bc1e3",
   "metadata": {},
   "outputs": [
    {
     "data": {
      "text/plain": [
       "'rutu'"
      ]
     },
     "execution_count": 17,
     "metadata": {},
     "output_type": "execute_result"
    }
   ],
   "source": [
    "max(l)"
   ]
  },
  {
   "cell_type": "code",
   "execution_count": 24,
   "id": "bba9432b",
   "metadata": {},
   "outputs": [],
   "source": [
    "l1=[\"Python\",\"Rutu\",\"alpha\"]"
   ]
  },
  {
   "cell_type": "code",
   "execution_count": 26,
   "id": "2d4ac496",
   "metadata": {},
   "outputs": [
    {
     "data": {
      "text/plain": [
       "'Python'"
      ]
     },
     "execution_count": 26,
     "metadata": {},
     "output_type": "execute_result"
    }
   ],
   "source": [
    "min(l1)"
   ]
  },
  {
   "cell_type": "code",
   "execution_count": 28,
   "id": "599ee1da",
   "metadata": {},
   "outputs": [
    {
     "data": {
      "text/plain": [
       "'alpha'"
      ]
     },
     "execution_count": 28,
     "metadata": {},
     "output_type": "execute_result"
    }
   ],
   "source": [
    "max(l1)"
   ]
  },
  {
   "cell_type": "code",
   "execution_count": 56,
   "id": "a09dc1ac",
   "metadata": {},
   "outputs": [],
   "source": [
    "l=[10,20,30,40,50,60]"
   ]
  },
  {
   "cell_type": "code",
   "execution_count": 58,
   "id": "3fa7b55b",
   "metadata": {},
   "outputs": [],
   "source": [
    "l[4]=120   ##to replace any element from list"
   ]
  },
  {
   "cell_type": "code",
   "execution_count": 60,
   "id": "958270d2",
   "metadata": {},
   "outputs": [
    {
     "data": {
      "text/plain": [
       "[10, 20, 30, 40, 120, 60]"
      ]
     },
     "execution_count": 60,
     "metadata": {},
     "output_type": "execute_result"
    }
   ],
   "source": [
    "l"
   ]
  },
  {
   "cell_type": "code",
   "execution_count": 62,
   "id": "d314b8d1",
   "metadata": {},
   "outputs": [],
   "source": [
    "l.insert(4,120)   ##to add any element at a particular index     {##general form: l.insert(index,new element)}"
   ]
  },
  {
   "cell_type": "code",
   "execution_count": 63,
   "id": "70010a9d",
   "metadata": {},
   "outputs": [
    {
     "data": {
      "text/plain": [
       "[10, 20, 30, 40, 120, 120, 120, 60]"
      ]
     },
     "execution_count": 63,
     "metadata": {},
     "output_type": "execute_result"
    }
   ],
   "source": [
    "l"
   ]
  },
  {
   "cell_type": "code",
   "execution_count": 39,
   "id": "72def655",
   "metadata": {},
   "outputs": [],
   "source": [
    "l=[10, 20, 30, 40, 40, 120, 120, 120, 60]"
   ]
  },
  {
   "cell_type": "code",
   "execution_count": 41,
   "id": "f13b983a",
   "metadata": {},
   "outputs": [
    {
     "data": {
      "text/plain": [
       "2"
      ]
     },
     "execution_count": 41,
     "metadata": {},
     "output_type": "execute_result"
    }
   ],
   "source": [
    "l.count(40)"
   ]
  },
  {
   "cell_type": "code",
   "execution_count": 43,
   "id": "ba80d7c5",
   "metadata": {},
   "outputs": [
    {
     "data": {
      "text/plain": [
       "1"
      ]
     },
     "execution_count": 43,
     "metadata": {},
     "output_type": "execute_result"
    }
   ],
   "source": [
    "l.count(10)"
   ]
  },
  {
   "cell_type": "code",
   "execution_count": 45,
   "id": "b42f4e6a",
   "metadata": {},
   "outputs": [
    {
     "data": {
      "text/plain": [
       "0"
      ]
     },
     "execution_count": 45,
     "metadata": {},
     "output_type": "execute_result"
    }
   ],
   "source": [
    "l.count(100)"
   ]
  },
  {
   "cell_type": "code",
   "execution_count": 46,
   "id": "a758c2b4",
   "metadata": {},
   "outputs": [],
   "source": [
    "l=[10, 20, 30, 40, 120, 120, 120, 120, 60]"
   ]
  },
  {
   "cell_type": "code",
   "execution_count": 65,
   "id": "3cc426c5",
   "metadata": {},
   "outputs": [],
   "source": [
    "l.append(500)  ##to add element to the list "
   ]
  },
  {
   "cell_type": "code",
   "execution_count": 95,
   "id": "556d3d83",
   "metadata": {},
   "outputs": [
    {
     "data": {
      "text/plain": [
       "[10,\n",
       " 20,\n",
       " 30,\n",
       " 40,\n",
       " 120,\n",
       " 120,\n",
       " 120,\n",
       " 120,\n",
       " 60,\n",
       " 200,\n",
       " 200,\n",
       " 300,\n",
       " 'p',\n",
       " 'y',\n",
       " 't',\n",
       " 'h',\n",
       " 'o',\n",
       " 'n',\n",
       " 'p',\n",
       " 'y',\n",
       " 't',\n",
       " 'h']"
      ]
     },
     "execution_count": 95,
     "metadata": {},
     "output_type": "execute_result"
    }
   ],
   "source": [
    "l"
   ]
  },
  {
   "cell_type": "code",
   "execution_count": 69,
   "id": "3da4ad38",
   "metadata": {},
   "outputs": [],
   "source": [
    "l=[10, 20, 30, 40, 120, 120, 120, 120, 60]\n",
    "l1=[100,200,300]"
   ]
  },
  {
   "cell_type": "code",
   "execution_count": 71,
   "id": "f2191f50",
   "metadata": {},
   "outputs": [],
   "source": [
    "l.extend(l1)"
   ]
  },
  {
   "cell_type": "code",
   "execution_count": 92,
   "id": "002365e2",
   "metadata": {},
   "outputs": [
    {
     "data": {
      "text/plain": [
       "[10,\n",
       " 20,\n",
       " 30,\n",
       " 40,\n",
       " 120,\n",
       " 120,\n",
       " 120,\n",
       " 120,\n",
       " 60,\n",
       " 200,\n",
       " 300,\n",
       " 200,\n",
       " 300,\n",
       " 'p',\n",
       " 'y',\n",
       " 't',\n",
       " 'h',\n",
       " 'o',\n",
       " 'n',\n",
       " 'p',\n",
       " 'y',\n",
       " 't',\n",
       " 'h']"
      ]
     },
     "execution_count": 92,
     "metadata": {},
     "output_type": "execute_result"
    }
   ],
   "source": [
    "l"
   ]
  },
  {
   "cell_type": "code",
   "execution_count": 76,
   "id": "4e55e49d",
   "metadata": {},
   "outputs": [],
   "source": [
    "l.extend(\"python\")"
   ]
  },
  {
   "cell_type": "code",
   "execution_count": 90,
   "id": "843c3c15",
   "metadata": {},
   "outputs": [
    {
     "data": {
      "text/plain": [
       "[10,\n",
       " 20,\n",
       " 30,\n",
       " 40,\n",
       " 120,\n",
       " 120,\n",
       " 120,\n",
       " 120,\n",
       " 60,\n",
       " 200,\n",
       " 300,\n",
       " 200,\n",
       " 300,\n",
       " 'p',\n",
       " 'y',\n",
       " 't',\n",
       " 'h',\n",
       " 'o',\n",
       " 'n',\n",
       " 'p',\n",
       " 'y',\n",
       " 't',\n",
       " 'h']"
      ]
     },
     "execution_count": 90,
     "metadata": {},
     "output_type": "execute_result"
    }
   ],
   "source": [
    "l"
   ]
  },
  {
   "cell_type": "code",
   "execution_count": 81,
   "id": "21396f66",
   "metadata": {},
   "outputs": [
    {
     "data": {
      "text/plain": [
       "'o'"
      ]
     },
     "execution_count": 81,
     "metadata": {},
     "output_type": "execute_result"
    }
   ],
   "source": [
    "l.pop()  ##deletes last element"
   ]
  },
  {
   "cell_type": "code",
   "execution_count": 88,
   "id": "de65397d",
   "metadata": {},
   "outputs": [
    {
     "data": {
      "text/plain": [
       "[10,\n",
       " 20,\n",
       " 30,\n",
       " 40,\n",
       " 120,\n",
       " 120,\n",
       " 120,\n",
       " 120,\n",
       " 60,\n",
       " 200,\n",
       " 300,\n",
       " 200,\n",
       " 300,\n",
       " 'p',\n",
       " 'y',\n",
       " 't',\n",
       " 'h',\n",
       " 'o',\n",
       " 'n',\n",
       " 'p',\n",
       " 'y',\n",
       " 't',\n",
       " 'h']"
      ]
     },
     "execution_count": 88,
     "metadata": {},
     "output_type": "execute_result"
    }
   ],
   "source": [
    "l"
   ]
  },
  {
   "cell_type": "code",
   "execution_count": 93,
   "id": "b03198f0",
   "metadata": {},
   "outputs": [],
   "source": [
    "l.remove(300)  ##removes a particular element"
   ]
  },
  {
   "cell_type": "code",
   "execution_count": 94,
   "id": "f81b315d",
   "metadata": {},
   "outputs": [
    {
     "data": {
      "text/plain": [
       "[10,\n",
       " 20,\n",
       " 30,\n",
       " 40,\n",
       " 120,\n",
       " 120,\n",
       " 120,\n",
       " 120,\n",
       " 60,\n",
       " 200,\n",
       " 200,\n",
       " 300,\n",
       " 'p',\n",
       " 'y',\n",
       " 't',\n",
       " 'h',\n",
       " 'o',\n",
       " 'n',\n",
       " 'p',\n",
       " 'y',\n",
       " 't',\n",
       " 'h']"
      ]
     },
     "execution_count": 94,
     "metadata": {},
     "output_type": "execute_result"
    }
   ],
   "source": [
    "l"
   ]
  },
  {
   "cell_type": "code",
   "execution_count": 98,
   "id": "8bd56406",
   "metadata": {},
   "outputs": [],
   "source": [
    "l=[10, 20, 30, 40, 120, 120, 120, 120, 60]"
   ]
  },
  {
   "cell_type": "code",
   "execution_count": 101,
   "id": "1417b84a",
   "metadata": {},
   "outputs": [],
   "source": [
    "del l[2]"
   ]
  },
  {
   "cell_type": "code",
   "execution_count": 103,
   "id": "72f935d6",
   "metadata": {},
   "outputs": [
    {
     "data": {
      "text/plain": [
       "[10, 20, 120, 120, 120, 120, 60]"
      ]
     },
     "execution_count": 103,
     "metadata": {},
     "output_type": "execute_result"
    }
   ],
   "source": [
    "l"
   ]
  },
  {
   "cell_type": "code",
   "execution_count": 109,
   "id": "19a21bc0",
   "metadata": {},
   "outputs": [],
   "source": [
    "l=[10, 20, 30, 40, 120, 120, 120, 120, 60]"
   ]
  },
  {
   "cell_type": "code",
   "execution_count": 110,
   "id": "997bc81f",
   "metadata": {},
   "outputs": [],
   "source": [
    "del l[0]"
   ]
  },
  {
   "cell_type": "code",
   "execution_count": 112,
   "id": "96600eb9",
   "metadata": {},
   "outputs": [
    {
     "data": {
      "text/plain": [
       "[20, 30, 40, 120, 120, 120, 120, 60]"
      ]
     },
     "execution_count": 112,
     "metadata": {},
     "output_type": "execute_result"
    }
   ],
   "source": [
    "l"
   ]
  },
  {
   "cell_type": "code",
   "execution_count": 118,
   "id": "7b2aef4a",
   "metadata": {},
   "outputs": [],
   "source": [
    "l.reverse()  ##to reverse the list"
   ]
  },
  {
   "cell_type": "code",
   "execution_count": 119,
   "id": "542ba34b",
   "metadata": {},
   "outputs": [
    {
     "data": {
      "text/plain": [
       "[20, 30, 40, 120, 120, 120, 120, 60]"
      ]
     },
     "execution_count": 119,
     "metadata": {},
     "output_type": "execute_result"
    }
   ],
   "source": [
    "l"
   ]
  },
  {
   "cell_type": "code",
   "execution_count": 121,
   "id": "18d0a2f3",
   "metadata": {},
   "outputs": [],
   "source": [
    "l.sort()   ##sorts in ascending order"
   ]
  },
  {
   "cell_type": "code",
   "execution_count": 123,
   "id": "730559f3",
   "metadata": {},
   "outputs": [
    {
     "data": {
      "text/plain": [
       "[20, 30, 40, 60, 120, 120, 120, 120]"
      ]
     },
     "execution_count": 123,
     "metadata": {},
     "output_type": "execute_result"
    }
   ],
   "source": [
    "l"
   ]
  },
  {
   "cell_type": "code",
   "execution_count": 125,
   "id": "92d89b06",
   "metadata": {},
   "outputs": [],
   "source": [
    "l.sort(reverse=True)  ##in descending order"
   ]
  },
  {
   "cell_type": "code",
   "execution_count": 127,
   "id": "71150416",
   "metadata": {},
   "outputs": [
    {
     "data": {
      "text/plain": [
       "[120, 120, 120, 120, 60, 40, 30, 20]"
      ]
     },
     "execution_count": 127,
     "metadata": {},
     "output_type": "execute_result"
    }
   ],
   "source": [
    "l"
   ]
  },
  {
   "cell_type": "code",
   "execution_count": 131,
   "id": "b179cd15",
   "metadata": {},
   "outputs": [],
   "source": [
    "l1=l.copy()   ##to copy"
   ]
  },
  {
   "cell_type": "code",
   "execution_count": 141,
   "id": "91b45d5e",
   "metadata": {},
   "outputs": [
    {
     "data": {
      "text/plain": [
       "[1, 2, 3]"
      ]
     },
     "execution_count": 141,
     "metadata": {},
     "output_type": "execute_result"
    }
   ],
   "source": [
    "l1"
   ]
  },
  {
   "cell_type": "code",
   "execution_count": 134,
   "id": "bd309261",
   "metadata": {},
   "outputs": [],
   "source": [
    "l1=[1,2,3]\n",
    "l2=[4,5,6]\n",
    "l3=[7,8,9]"
   ]
  },
  {
   "cell_type": "code",
   "execution_count": 136,
   "id": "3d7dad03",
   "metadata": {},
   "outputs": [],
   "source": [
    "l4=[l1,l2,l3]"
   ]
  },
  {
   "cell_type": "code",
   "execution_count": 138,
   "id": "8735db8f",
   "metadata": {},
   "outputs": [
    {
     "data": {
      "text/plain": [
       "[[1, 2, 3], [4, 5, 6], [7, 8, 9]]"
      ]
     },
     "execution_count": 138,
     "metadata": {},
     "output_type": "execute_result"
    }
   ],
   "source": [
    "l4"
   ]
  },
  {
   "cell_type": "code",
   "execution_count": 140,
   "id": "eed7e0ee",
   "metadata": {},
   "outputs": [
    {
     "data": {
      "text/plain": [
       "9"
      ]
     },
     "execution_count": 140,
     "metadata": {},
     "output_type": "execute_result"
    }
   ],
   "source": [
    "l4[2][2]"
   ]
  },
  {
   "cell_type": "code",
   "execution_count": 143,
   "id": "1851ef9c",
   "metadata": {},
   "outputs": [],
   "source": [
    "l1.clear()"
   ]
  },
  {
   "cell_type": "code",
   "execution_count": 144,
   "id": "839f7cd3",
   "metadata": {},
   "outputs": [
    {
     "data": {
      "text/plain": [
       "[]"
      ]
     },
     "execution_count": 144,
     "metadata": {},
     "output_type": "execute_result"
    }
   ],
   "source": [
    "l1"
   ]
  },
  {
   "cell_type": "code",
   "execution_count": null,
   "id": "fd50f20b",
   "metadata": {},
   "outputs": [],
   "source": []
  }
 ],
 "metadata": {
  "kernelspec": {
   "display_name": "Python 3 (ipykernel)",
   "language": "python",
   "name": "python3"
  },
  "language_info": {
   "codemirror_mode": {
    "name": "ipython",
    "version": 3
   },
   "file_extension": ".py",
   "mimetype": "text/x-python",
   "name": "python",
   "nbconvert_exporter": "python",
   "pygments_lexer": "ipython3",
   "version": "3.11.4"
  }
 },
 "nbformat": 4,
 "nbformat_minor": 5
}
